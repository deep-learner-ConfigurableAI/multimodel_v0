{
 "cells": [
  {
   "cell_type": "code",
   "execution_count": null,
   "id": "c0135e60",
   "metadata": {},
   "outputs": [],
   "source": [
    "from transformers import GPT2LMHeadModel\n",
    "from transformers import GPT2Tokenizer\n",
    "\n",
    "\n",
    "tokenizer = GPT2Tokenizer.from_pretrained(\"gpt2\")\n",
    "gpt_decoder = GPT2LMHeadModel.from_pretrained(\"gpt2\")\n",
    "tokenizer.pad_token = \"<PAD>\"\n"
   ]
  },
  {
   "cell_type": "code",
   "execution_count": null,
   "id": "74c8534f",
   "metadata": {},
   "outputs": [],
   "source": [
    "caption_length = 20 \n",
    "\n",
    "\n",
    "caption = \"Who is Modi \"\n",
    "\n",
    "tokens = tokenizer(\n",
    "            caption,\n",
    "            max_length=caption_length,\n",
    "            padding=\"max_length\",\n",
    "            truncation=True,\n",
    "            return_tensors=\"pt\"\n",
    "        )\n"
   ]
  },
  {
   "cell_type": "code",
   "execution_count": null,
   "id": "6e5b9c62",
   "metadata": {},
   "outputs": [],
   "source": [
    "tokens"
   ]
  },
  {
   "cell_type": "code",
   "execution_count": null,
   "id": "b8cd6ca3",
   "metadata": {},
   "outputs": [],
   "source": [
    "import torch \n",
    "\n",
    "gpt_decoder.eval() \n",
    "\n",
    "with torch.no_grad():\n",
    "        output_ids = gpt_decoder.generate(\n",
    "            input_ids=tokens[\"input_ids\"],\n",
    "            max_length=30,\n",
    "            num_beams=3,\n",
    "            pad_token_id=tokenizer.pad_token_id,\n",
    "            eos_token_id=tokenizer.eos_token_id,\n",
    "        )\n",
    "\n",
    "    # Decode\n",
    "tokenizer.decode(output_ids[0], skip_special_tokens=True)"
   ]
  },
  {
   "cell_type": "code",
   "execution_count": null,
   "id": "f2a04e84",
   "metadata": {},
   "outputs": [],
   "source": [
    "import torch\n",
    "from torch.nn import functional as F\n",
    "import matplotlib.pyplot as plt \n",
    "from transformers.generation.logits_process import LogitsProcessorList\n",
    "from transformers import LogitsProcessorList, MinLengthLogitsProcessor, RepetitionPenaltyLogitsProcessor\n",
    "\n",
    "from transformers.generation.logits_process import (\n",
    "    TemperatureLogitsWarper,\n",
    "    TopKLogitsWarper,\n",
    "    TopPLogitsWarper,\n",
    ")\n",
    "\n",
    "# Chain multiple warpers\n",
    "warpers = LogitsProcessorList([\n",
    "    TemperatureLogitsWarper(0.8),\n",
    "    TopKLogitsWarper(50),\n",
    "    TopPLogitsWarper(0.95),\n",
    "])\n",
    "\n",
    "processors = LogitsProcessorList([\n",
    "    RepetitionPenaltyLogitsProcessor(penalty=1.2)\n",
    "])\n",
    "\n",
    "\n",
    "def greedy_generate(model, tokenizer, input_ids, max_new_tokens=30, device=\"cpu\"):\n",
    "    model.eval()\n",
    "    generated = input_ids.to(device)\n",
    "\n",
    "    for _ in range(max_new_tokens):\n",
    "        # Forward pass\n",
    "        with torch.no_grad():\n",
    "            outputs = model(input_ids=generated)\n",
    "            logits = outputs.logits  # (B, T, V)\n",
    "        \n",
    "        # Get last token logits\n",
    "        next_token_logits = logits[:, -1, :]  # (B, V)\n",
    "\n",
    "        next_token_logits = processors(generated, logits[:, -1, :])\n",
    "\n",
    "        probs = F.softmax(next_token_logits, dim=-1)\n",
    "            # Sample on CPU to avoid MPS issues\n",
    "        next_token_id = torch.multinomial(probs.cpu(), num_samples=1).to(device)\n",
    "\n",
    "        # Append to sequence\n",
    "        generated = torch.cat([generated, next_token_id], dim=1)\n",
    "\n",
    "        # Stop if EOS generated\n",
    "        if tokenizer.eos_token_id is not None and (next_token_id == tokenizer.eos_token_id).all():\n",
    "            break\n",
    "\n",
    "    return generated\n",
    "\n",
    "# Example usage\n",
    "tokens = tokenizer(\"Who is Modi \", return_tensors=\"pt\")\n",
    "output_ids = greedy_generate(gpt_decoder, tokenizer, tokens[\"input_ids\"], max_new_tokens=30)\n",
    "print(tokenizer.decode(output_ids[0], skip_special_tokens=True))\n"
   ]
  },
  {
   "cell_type": "code",
   "execution_count": null,
   "id": "87a558cd",
   "metadata": {},
   "outputs": [],
   "source": [
    "from transformers import AutoModelForCausalLM\n",
    "from transformers import AutoTokenizer \n",
    "import torch \n",
    "import os \n",
    "\n",
    "\n",
    "model_name = \"Falcon3-1B-Base\"\n",
    "tokenizer = AutoTokenizer.from_pretrained(model_name)\n",
    "gpt_decoder = AutoModelForCausalLM.from_pretrained(model_name, torch_dtype=torch.bfloat16)"
   ]
  },
  {
   "cell_type": "code",
   "execution_count": null,
   "id": "cd0b32b5",
   "metadata": {},
   "outputs": [],
   "source": [
    "inputs = tokenizer(\n",
    "            \"Who is Modi\",\n",
    "            max_length=5,\n",
    "            padding=\"max_length\",\n",
    "            truncation=True,\n",
    "            return_tensors=\"pt\"\n",
    "        )\n"
   ]
  },
  {
   "cell_type": "code",
   "execution_count": null,
   "id": "09cf0564",
   "metadata": {},
   "outputs": [],
   "source": [
    "inputs"
   ]
  },
  {
   "cell_type": "code",
   "execution_count": null,
   "id": "eeba1297",
   "metadata": {},
   "outputs": [],
   "source": [
    "tokenizer.decode(inputs[\"input_ids\"].view(-1), skip_special_tokens=False)"
   ]
  },
  {
   "cell_type": "code",
   "execution_count": null,
   "id": "1d117399",
   "metadata": {},
   "outputs": [],
   "source": [
    "gpt_decoder.get_input_embeddings()(inputs[\"input_ids\"]).shape"
   ]
  },
  {
   "cell_type": "code",
   "execution_count": null,
   "id": "404dc173",
   "metadata": {},
   "outputs": [],
   "source": [
    "import torch \n",
    "\n",
    "gpt_decoder.eval() \n",
    "with torch.no_grad():\n",
    "        output_ids = gpt_decoder.generate(\n",
    "            input_ids=inputs[\"input_ids\"],\n",
    "            max_new_tokens = 40,\n",
    "        )\n",
    "tokenizer.decode(output_ids[0], skip_special_tokens=True)"
   ]
  },
  {
   "cell_type": "code",
   "execution_count": 1,
   "id": "3d6e299f",
   "metadata": {},
   "outputs": [
    {
     "name": "stderr",
     "output_type": "stream",
     "text": [
      "/Users/preetamverma/Desktop/multimodel/.venv/lib/python3.12/site-packages/tqdm/auto.py:21: TqdmWarning: IProgress not found. Please update jupyter and ipywidgets. See https://ipywidgets.readthedocs.io/en/stable/user_install.html\n",
      "  from .autonotebook import tqdm as notebook_tqdm\n"
     ]
    }
   ],
   "source": [
    "\n",
    "from transformers import GPTNeoForCausalLM, AutoTokenizer\n",
    "\n",
    "model_name_or_path = \"GPT-NEO-350M\"  \n",
    "\n",
    "tokenizer = AutoTokenizer.from_pretrained(model_name_or_path)\n",
    "model = GPTNeoForCausalLM.from_pretrained(model_name_or_path)\n",
    "\n",
    "inputs = tokenizer(\"Hello, how are you?\", return_tensors=\"pt\")\n"
   ]
  },
  {
   "cell_type": "code",
   "execution_count": 20,
   "id": "69c5c21c",
   "metadata": {},
   "outputs": [
    {
     "name": "stdout",
     "output_type": "stream",
     "text": [
      "Who is USA President ?\n",
      "\n",
      "We have a daily Washington Post poll, released last week, about what the best meanchiet does Sept. 11 way, but you must\n"
     ]
    }
   ],
   "source": [
    "import torch\n",
    "from torch.nn import functional as F\n",
    "import matplotlib.pyplot as plt \n",
    "from transformers.generation.logits_process import LogitsProcessorList\n",
    "from transformers import LogitsProcessorList, MinLengthLogitsProcessor, RepetitionPenaltyLogitsProcessor\n",
    "\n",
    "from transformers.generation.logits_process import (\n",
    "    TemperatureLogitsWarper,\n",
    "    TopKLogitsWarper,\n",
    "    TopPLogitsWarper,\n",
    ")\n",
    "\n",
    "# Chain multiple warpers\n",
    "warpers = LogitsProcessorList([\n",
    "    TemperatureLogitsWarper(0.8),\n",
    "    TopKLogitsWarper(50),\n",
    "    TopPLogitsWarper(0.95),\n",
    "])\n",
    "\n",
    "processors = LogitsProcessorList([\n",
    "    RepetitionPenaltyLogitsProcessor(penalty=1.2)\n",
    "])\n",
    "\n",
    "\n",
    "def greedy_generate(model, tokenizer, input_ids, max_new_tokens=30, device=\"cpu\"):\n",
    "    model.eval()\n",
    "    generated = input_ids.to(device)\n",
    "\n",
    "    for _ in range(max_new_tokens):\n",
    "        # Forward pass\n",
    "        with torch.no_grad():\n",
    "            outputs = model(input_ids=generated)\n",
    "            logits = outputs.logits  # (B, T, V)\n",
    "        \n",
    "        # Get last token logits\n",
    "        next_token_logits = logits[:, -1, :]  # (B, V)\n",
    "\n",
    "        next_token_logits = processors(generated, logits[:, -1, :])\n",
    "        # next_token_logits = warpers(generated, next_token_logits)\n",
    "\n",
    "        probs = F.softmax(next_token_logits, dim=-1)\n",
    "            # Sample on CPU to avoid MPS issues\n",
    "        next_token_id = torch.multinomial(probs.cpu(), num_samples=1).to(device)\n",
    "\n",
    "        # Append to sequence\n",
    "        generated = torch.cat([generated, next_token_id], dim=1)\n",
    "\n",
    "        # Stop if EOS generated\n",
    "        if tokenizer.eos_token_id is not None and (next_token_id == tokenizer.eos_token_id).all():\n",
    "            break\n",
    "\n",
    "    return generated\n",
    "\n",
    "# Example usage\n",
    "tokens = tokenizer(\"Who is USA President ?\", return_tensors=\"pt\")\n",
    "output_ids = greedy_generate(model, tokenizer, tokens[\"input_ids\"], max_new_tokens=30)\n",
    "print(tokenizer.decode(output_ids[0], skip_special_tokens=True))\n"
   ]
  },
  {
   "cell_type": "code",
   "execution_count": 1,
   "id": "0046734c",
   "metadata": {},
   "outputs": [
    {
     "name": "stdout",
     "output_type": "stream",
     "text": [
      "Baseline: ['FlexContainer', 'FlexContainer', 'FlexContainer']\n",
      "(0, [('swap', 2, 'FlexContainer', 'Button')], 0)\n",
      "(1, [], 0)\n",
      "(2, [], 0)\n",
      "----------------------------------------\n"
     ]
    }
   ],
   "source": [
    "from collections import Counter\n",
    "\n",
    "def majority_baseline(lists):\n",
    "    counts = Counter(tuple(lst) for lst in lists)\n",
    "    most_common, _ = counts.most_common(1)[0]\n",
    "    return list(most_common)\n",
    "\n",
    "def _align_and_issues(reference, current):\n",
    "    a = reference\n",
    "    b = current\n",
    "    n, m = len(a), len(b)\n",
    "\n",
    "    # DP for edit distance\n",
    "    dp = [[0] * (m + 1) for _ in range(n + 1)]\n",
    "    for i in range(1, n + 1):\n",
    "        dp[i][0] = i\n",
    "    for j in range(1, m + 1):\n",
    "        dp[0][j] = j\n",
    "\n",
    "    for i in range(1, n + 1):\n",
    "        for j in range(1, m + 1):\n",
    "            cost_sub = 0 if a[i-1] == b[j-1] else 1\n",
    "            dp[i][j] = min(dp[i-1][j-1] + cost_sub, dp[i-1][j] + 1, dp[i][j-1] + 1)\n",
    "\n",
    "    # Backtrace to produce alignment ops\n",
    "    i, j = n, m\n",
    "    ops = []\n",
    "    while i > 0 or j > 0:\n",
    "        if i > 0 and j > 0:\n",
    "            cost_sub = 0 if a[i-1] == b[j-1] else 1\n",
    "            if dp[i][j] == dp[i-1][j-1] + cost_sub:\n",
    "                if cost_sub == 0:\n",
    "                    ops.append(('equal', i-1, j-1, a[i-1], b[j-1]))\n",
    "                else:\n",
    "                    ops.append(('replace', i-1, j-1, a[i-1], b[j-1]))\n",
    "                i -= 1; j -= 1\n",
    "                continue\n",
    "        if i > 0 and dp[i][j] == dp[i-1][j] + 1:\n",
    "            ops.append(('delete', i-1, None, a[i-1], None))\n",
    "            i -= 1\n",
    "            continue\n",
    "        if j > 0 and dp[i][j] == dp[i][j-1] + 1:\n",
    "            ops.append(('insert', None, j-1, None, b[j-1]))\n",
    "            j -= 1\n",
    "            continue\n",
    "        # Fallback (shouldn't happen)\n",
    "        raise RuntimeError(\"Backtrace failed\")\n",
    "\n",
    "    ops.reverse()\n",
    "\n",
    "    # Turn alignment ops into issues\n",
    "    issues = []\n",
    "    total_missing = 0\n",
    "    for tag, i_idx, j_idx, aval, bval in ops:\n",
    "        if tag == 'equal':\n",
    "            continue\n",
    "        if tag == 'replace':\n",
    "            # one-to-one substitution -> treat as swap/substitution\n",
    "            issues.append(('swap', i_idx, aval, bval))\n",
    "        elif tag == 'delete':\n",
    "            issues.append(('missing', i_idx, aval))\n",
    "            total_missing += 1\n",
    "        elif tag == 'insert':\n",
    "            issues.append(('extra', j_idx, bval))\n",
    "\n",
    "    return issues, total_missing\n",
    "\n",
    "def compare_to_reference(lists, reference):\n",
    "    results = []\n",
    "    for idx, current in enumerate(lists):\n",
    "        issues, total_missing = _align_and_issues(reference, current)\n",
    "        results.append((idx, issues, total_missing))\n",
    "    return results\n",
    "\n",
    "\n",
    "# -------------------\n",
    "# Quick demo with your failing cases\n",
    "# -------------------\n",
    "if __name__ == \"__main__\":\n",
    "    examples = [\n",
    "        [\n",
    "            [\"FlexContainer\", \"FlexContainer\", \"Button\"],\n",
    "            [\"FlexContainer\", \"FlexContainer\", \"FlexContainer\"],\n",
    "            [\"FlexContainer\", \"FlexContainer\", \"FlexContainer\"],\n",
    "        ]\n",
    "\n",
    "       \n",
    "    ]\n",
    "\n",
    "# -------------------\n",
    "# Tests\n",
    "# -------------------\n",
    "\n",
    "for ex in examples:\n",
    "    baseline = majority_baseline(ex)\n",
    "    print(\"Baseline:\", baseline)\n",
    "    out = compare_to_reference(ex, baseline)\n",
    "    for line in out:\n",
    "        print(line)\n",
    "    print(\"-\" * 40)\n"
   ]
  },
  {
   "cell_type": "code",
   "execution_count": 16,
   "id": "8c47a6fb",
   "metadata": {},
   "outputs": [],
   "source": [
    "tmp = {\"a\":1, \"b\":2, \"c\":3}"
   ]
  },
  {
   "cell_type": "code",
   "execution_count": 18,
   "id": "8a73264f",
   "metadata": {},
   "outputs": [
    {
     "data": {
      "text/plain": [
       "(dict_values([1, 2, 3]), dict_keys(['a', 'b', 'c']))"
      ]
     },
     "execution_count": 18,
     "metadata": {},
     "output_type": "execute_result"
    }
   ],
   "source": [
    "tmp.values(), tmp.keys()"
   ]
  },
  {
   "cell_type": "code",
   "execution_count": 23,
   "id": "f8689aff",
   "metadata": {},
   "outputs": [
    {
     "data": {
      "text/plain": [
       "(1, None, 2)"
      ]
     },
     "execution_count": 23,
     "metadata": {},
     "output_type": "execute_result"
    }
   ],
   "source": [
    "tmp = [1,2,3,4]\n",
    "\n",
    "index = 0\n",
    "current = tmp[index] if index >= 0 else None \n",
    "previous = tmp[index-1] if index-1>=0 else None \n",
    "next = tmp[index+1] if index+1<len(tmp) else None \n",
    "\n",
    "current, previous, next"
   ]
  },
  {
   "cell_type": "code",
   "execution_count": null,
   "id": "5ead57b6",
   "metadata": {},
   "outputs": [],
   "source": []
  }
 ],
 "metadata": {
  "kernelspec": {
   "display_name": ".venv (3.12.0)",
   "language": "python",
   "name": "python3"
  },
  "language_info": {
   "codemirror_mode": {
    "name": "ipython",
    "version": 3
   },
   "file_extension": ".py",
   "mimetype": "text/x-python",
   "name": "python",
   "nbconvert_exporter": "python",
   "pygments_lexer": "ipython3",
   "version": "3.12.0"
  }
 },
 "nbformat": 4,
 "nbformat_minor": 5
}
